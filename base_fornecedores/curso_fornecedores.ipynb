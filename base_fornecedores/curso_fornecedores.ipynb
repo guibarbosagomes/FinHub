{
 "cells": [
  {
   "cell_type": "code",
   "execution_count": 3,
   "metadata": {},
   "outputs": [],
   "source": [
    "import pandas as pd\n",
    "import re\n",
    "import os\n",
    "from dotenv import main\n",
    "from sqlalchemy import create_engine, text, String, Numeric, Date\n",
    "from datetime import datetime"
   ]
  },
  {
   "cell_type": "code",
   "execution_count": 4,
   "metadata": {},
   "outputs": [
    {
     "data": {
      "text/plain": [
       "True"
      ]
     },
     "execution_count": 4,
     "metadata": {},
     "output_type": "execute_result"
    }
   ],
   "source": [
    "main.load_dotenv(dotenv_path=\"../../Env/.env\", override= True)"
   ]
  },
  {
   "cell_type": "code",
   "execution_count": 5,
   "metadata": {},
   "outputs": [],
   "source": [
    "financeiro = create_engine(os.getenv(\"DB_DIALECT\") + \"financeiro\")\n",
    "stage = create_engine(os.getenv(\"DB_DIALECT\") + \"stage\")"
   ]
  },
  {
   "cell_type": "code",
   "execution_count": 6,
   "metadata": {},
   "outputs": [],
   "source": [
    "caminho_arquivo = \"base/Planilha de Fornecedores - 12.06.2024.xlsb\""
   ]
  },
  {
   "cell_type": "code",
   "execution_count": 7,
   "metadata": {},
   "outputs": [],
   "source": [
    "nome_colunas = ['valor', 'num_doc_ref',\t'cod_conta_contabil', 'cod_centro_custo', 'cod_empresa',\t'dt_lancamento',\t'dt_documento',\t'texto',\t'atribuicao',\t'cod_fornecedor',\t'desc_fornecedor',\t'dt_referencia',\t'tipo',\t'ref_nome',\t'ref2_nome']"
   ]
  },
  {
   "cell_type": "code",
   "execution_count": 8,
   "metadata": {},
   "outputs": [],
   "source": [
    "df = pd.read_excel(caminho_arquivo, \"BD\")"
   ]
  },
  {
   "cell_type": "code",
   "execution_count": 9,
   "metadata": {},
   "outputs": [],
   "source": [
    "df2 = df"
   ]
  },
  {
   "cell_type": "code",
   "execution_count": 29,
   "metadata": {},
   "outputs": [],
   "source": [
    "df = df2"
   ]
  },
  {
   "cell_type": "code",
   "execution_count": 30,
   "metadata": {},
   "outputs": [],
   "source": [
    "# Removendo nulos\n",
    "df = df[(~df[df.columns[0]].isna()) & (df[df.columns[0]] != \"nan\")]"
   ]
  },
  {
   "cell_type": "code",
   "execution_count": 31,
   "metadata": {},
   "outputs": [],
   "source": [
    "# Selecionando apenas as colunas necessárias\n",
    "df = df[[\n",
    "    df.columns[0], \n",
    "    df.columns[1],\n",
    "    df.columns[2],\n",
    "    df.columns[3],\n",
    "    df.columns[4],\n",
    "    df.columns[5],\n",
    "    df.columns[6],\n",
    "    df.columns[7],\n",
    "    df.columns[8],\n",
    "    df.columns[9],\n",
    "    df.columns[10],\n",
    "    df.columns[11],\n",
    "    df.columns[14],\n",
    "    df.columns[18],\n",
    "    df.columns[19]\n",
    "    ]]"
   ]
  },
  {
   "cell_type": "code",
   "execution_count": 32,
   "metadata": {},
   "outputs": [],
   "source": [
    "df = df.rename(columns = dict(zip(df.columns, nome_colunas)))"
   ]
  },
  {
   "cell_type": "code",
   "execution_count": 33,
   "metadata": {},
   "outputs": [],
   "source": [
    "df[\"dt_lancamento\"] = pd.to_datetime(df[\"dt_lancamento\"], format='%d.%m.%Y')\n",
    "df[\"dt_documento\"] = pd.to_datetime(df[\"dt_documento\"], format='%d.%m.%Y')\n",
    "\n",
    "\n",
    "# Ajustando o tipo de dt_referencia\n",
    "df[\"dt_referencia\"] = df[\"dt_referencia\"].astype('str')\n",
    "df.loc[df[\"dt_referencia\"] == \"2023.1\", \"dt_referencia\"] = \"2023.10\"\n",
    "df.loc[df[\"dt_referencia\"] == \"2024.1\", \"dt_referencia\"] = \"2024.10\"\n",
    "\n",
    "df[\"dt_referencia\"] = pd.to_datetime(df[\"dt_referencia\"], format='%Y.%m', dayfirst = True)\n",
    "\n",
    "# Corrigindo tipo\n",
    "df.loc[df[\"tipo\"] == \"ACT 2023\", \"tipo\"] = \"act\"\n",
    "df.loc[df[\"tipo\"] == \"BGT 2023\", \"tipo\"] = \"bgt\"\n",
    "df.loc[df[\"tipo\"] == \"ACT 2024\", \"tipo\"] = \"act\"\n",
    "df.loc[df[\"tipo\"] == \"BGT 2024\", \"tipo\"] = \"bgt\"\n",
    "\n",
    "# Corrigindo arredondamento\n",
    "df[\"valor\"] = df[\"valor\"].round(2)"
   ]
  },
  {
   "cell_type": "code",
   "execution_count": 34,
   "metadata": {},
   "outputs": [],
   "source": [
    "df = df[df[\"dt_referencia\"] >= \"2024-01-01\"]"
   ]
  },
  {
   "cell_type": "code",
   "execution_count": 35,
   "metadata": {},
   "outputs": [],
   "source": [
    "df.to_csv(\"dados_fornecedores.csv\", index = False)"
   ]
  },
  {
   "cell_type": "code",
   "execution_count": 27,
   "metadata": {},
   "outputs": [],
   "source": [
    "# df = df[[\"valor\", \"num_doc_ref\", \"\"]]"
   ]
  },
  {
   "cell_type": "code",
   "execution_count": 28,
   "metadata": {},
   "outputs": [
    {
     "data": {
      "text/plain": [
       "837"
      ]
     },
     "execution_count": 28,
     "metadata": {},
     "output_type": "execute_result"
    }
   ],
   "source": [
    "# df.to_sql(\"custo_fornecedores_upsert\", stage, index = False, if_exists = \"replace\")"
   ]
  }
 ],
 "metadata": {
  "kernelspec": {
   "display_name": "Python 3",
   "language": "python",
   "name": "python3"
  },
  "language_info": {
   "codemirror_mode": {
    "name": "ipython",
    "version": 3
   },
   "file_extension": ".py",
   "mimetype": "text/x-python",
   "name": "python",
   "nbconvert_exporter": "python",
   "pygments_lexer": "ipython3",
   "version": "3.10.7"
  }
 },
 "nbformat": 4,
 "nbformat_minor": 2
}
