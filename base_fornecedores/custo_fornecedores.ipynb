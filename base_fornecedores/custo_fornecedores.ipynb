{
 "cells": [
  {
   "cell_type": "code",
   "execution_count": 34,
   "metadata": {},
   "outputs": [],
   "source": [
    "import pandas as pd\n",
    "import re\n",
    "import os\n",
    "from dotenv import main\n",
    "from sqlalchemy import create_engine, text, String, Numeric, Date\n",
    "from datetime import datetime"
   ]
  },
  {
   "cell_type": "code",
   "execution_count": 35,
   "metadata": {},
   "outputs": [],
   "source": [
    "# Definindo a função para adicionar zero à esquerda\n",
    "def add_zero(value):\n",
    "    if value in ['100', '120', '300']:\n",
    "        return f'0{value}'\n",
    "    return value"
   ]
  },
  {
   "cell_type": "code",
   "execution_count": 36,
   "metadata": {},
   "outputs": [
    {
     "data": {
      "text/plain": [
       "True"
      ]
     },
     "execution_count": 36,
     "metadata": {},
     "output_type": "execute_result"
    }
   ],
   "source": [
    "main.load_dotenv(dotenv_path=\"../../Env/.env\", override= True)"
   ]
  },
  {
   "cell_type": "code",
   "execution_count": 37,
   "metadata": {},
   "outputs": [],
   "source": [
    "financeiro = create_engine(os.getenv(\"DB_DIALECT\") + \"financeiro\")\n",
    "stage = create_engine(os.getenv(\"DB_DIALECT\") + \"stage\")"
   ]
  },
  {
   "cell_type": "code",
   "execution_count": 38,
   "metadata": {},
   "outputs": [],
   "source": [
    "caminho_arquivo = \"base/forn_act_bgt_24.xlsx\"\n",
    "\n",
    "colunas = [\n",
    "    '      Valor/MR',\n",
    "    'Nº doc.ref',\n",
    "    'Conta',\n",
    "    'Centro cst',\n",
    "    'Empr',\n",
    "    'Dt.lçto.',\n",
    "    'Data doc.',\n",
    "    'Texto',\n",
    "    'Atribuição',\n",
    "    'LW Forn',\n",
    "    'Fornecedor',\n",
    "    'Ano/Mês',\n",
    "    'BGT / ACT',\n",
    "    'REF+Nome',\n",
    "    'REF2+Nome'\n",
    "]\n",
    "\n",
    "tipo_de_dados = {\n",
    "    '      Valor/MR' : float,\n",
    "    'Nº doc.ref' : str,\n",
    "    'Conta' : str,\n",
    "    'Centro cst' : str,\n",
    "    'Empr' : str,\n",
    "    'Dt.lçto.' : str,\n",
    "    'Data doc.' : str,\n",
    "    'Texto' : str,\n",
    "    'Atribuição' : str,\n",
    "    'LW Forn' : str,\n",
    "    'Fornecedor' : str,\n",
    "    'Ano/Mês' : str,\n",
    "    'BGT / ACT' : str,\n",
    "    'REF+Nome' : str,\n",
    "    'REF2+Nome' : str\n",
    "}"
   ]
  },
  {
   "cell_type": "code",
   "execution_count": 40,
   "metadata": {},
   "outputs": [],
   "source": [
    "df = pd.read_excel(caminho_arquivo, sheet_name = \"Planilha1\", dtype = tipo_de_dados)"
   ]
  },
  {
   "cell_type": "code",
   "execution_count": 41,
   "metadata": {},
   "outputs": [],
   "source": [
    "nome_colunas = ['valor', 'num_doc_ref',\t'cod_conta_contabil', 'cod_centro_custo', 'cod_empresa', 'dt_lancamento', 'dt_documento',\t'texto',\t'atribuicao',\t'cod_fornecedor',\t'desc_fornecedor',\t'dt_referencia', 'tipo',\t'ref_nome',\t'ref2_nome']"
   ]
  },
  {
   "cell_type": "code",
   "execution_count": 42,
   "metadata": {},
   "outputs": [],
   "source": [
    "df2 = df"
   ]
  },
  {
   "cell_type": "code",
   "execution_count": null,
   "metadata": {},
   "outputs": [],
   "source": [
    "df = df2"
   ]
  },
  {
   "cell_type": "code",
   "execution_count": null,
   "metadata": {},
   "outputs": [],
   "source": [
    "# ## Filtro\n",
    "# df = df[(df[\"ref_nome\"] == \"R.C - Operation \") | (df[\"ref_nome\"] == \"R.I - Marketing\")]"
   ]
  },
  {
   "cell_type": "code",
   "execution_count": 43,
   "metadata": {},
   "outputs": [],
   "source": [
    "# Removendo nulos\n",
    "df = df[(~df[df.columns[0]].isna()) & (df[df.columns[0]] != \"nan\")]"
   ]
  },
  {
   "cell_type": "code",
   "execution_count": 44,
   "metadata": {},
   "outputs": [],
   "source": [
    "# Selecionando apenas as colunas necessárias\n",
    "df = df[[\n",
    "    df.columns[0], \n",
    "    df.columns[1],\n",
    "    df.columns[2],\n",
    "    df.columns[3],\n",
    "    df.columns[4],\n",
    "    df.columns[5],\n",
    "    df.columns[6],\n",
    "    df.columns[7],\n",
    "    df.columns[8],\n",
    "    df.columns[9],\n",
    "    df.columns[10],\n",
    "    df.columns[11],\n",
    "    df.columns[14],\n",
    "    df.columns[18],\n",
    "    df.columns[19]\n",
    "    ]]"
   ]
  },
  {
   "cell_type": "code",
   "execution_count": 45,
   "metadata": {},
   "outputs": [],
   "source": [
    "df = df.rename(columns = dict(zip(df.columns, nome_colunas)))"
   ]
  },
  {
   "cell_type": "code",
   "execution_count": 46,
   "metadata": {},
   "outputs": [],
   "source": [
    "df[\"dt_lancamento\"] = pd.to_datetime(df[\"dt_lancamento\"], format='%d.%m.%Y')\n",
    "df[\"dt_documento\"] = pd.to_datetime(df[\"dt_documento\"], format='%d.%m.%Y')\n",
    "\n",
    "\n",
    "# Ajustando o tipo de dt_referencia\n",
    "df[\"dt_referencia\"] = df[\"dt_referencia\"].astype('str')\n",
    "df.loc[df[\"dt_referencia\"] == \"2023.1\", \"dt_referencia\"] = \"2023.10\"\n",
    "df.loc[df[\"dt_referencia\"] == \"2024.1\", \"dt_referencia\"] = \"2024.10\"\n",
    "\n",
    "df[\"dt_referencia\"] = pd.to_datetime(df[\"dt_referencia\"], format='%Y.%m', dayfirst = True)\n",
    "\n",
    "# Corrigindo tipo\n",
    "df.loc[df[\"tipo\"] == \"ACT 2023\", \"tipo\"] = \"act\"\n",
    "df.loc[df[\"tipo\"] == \"BGT 2023\", \"tipo\"] = \"bgt\"\n",
    "df.loc[df[\"tipo\"] == \"ACT 2024\", \"tipo\"] = \"act\"\n",
    "df.loc[df[\"tipo\"] == \"BGT 2024\", \"tipo\"] = \"bgt\"\n",
    "\n",
    "# Corrigindo arredondamento\n",
    "df[\"valor\"] = df[\"valor\"].round(2)\n",
    "\n",
    "# Adicionando 0 a esquerda das empresas 100, 120, 300\n",
    "df['cod_empresa'] = df['cod_empresa'].apply(add_zero)"
   ]
  },
  {
   "cell_type": "code",
   "execution_count": null,
   "metadata": {},
   "outputs": [],
   "source": [
    "# df = df[df[\"dt_referencia\"] == \"2024-05-01\"]"
   ]
  },
  {
   "cell_type": "code",
   "execution_count": 47,
   "metadata": {},
   "outputs": [
    {
     "data": {
      "text/plain": [
       "104"
      ]
     },
     "execution_count": 47,
     "metadata": {},
     "output_type": "execute_result"
    }
   ],
   "source": [
    "df.to_sql(\"custo_fornecedores_upsert\", stage, if_exists = \"replace\", index = False, \n",
    "                            dtype = {\n",
    "                                    'valor' : Numeric(15,2), \n",
    "                                    'num_doc_ref' : String,\n",
    "                                    'cod_conta_contabil' : String,\n",
    "                                    'cod_centro_custo' : String,\n",
    "                                    'cod_empresa' : String,\n",
    "                                    'dt_lancamento' : Date,\n",
    "                                    'dt_documento' : Date,\n",
    "                                    'texto' : String,\n",
    "                                    'atribuicao' : String,\n",
    "                                    'cod_fornecedor' : String,\n",
    "                                    'desc_fornecedor' : String,\n",
    "                                    'dt_referencia' : Date,\n",
    "                                    'tipo' : String,\n",
    "                                    'ref_nome' : String,\n",
    "                                    'ref2_nome' : String\n",
    "                            })"
   ]
  }
 ],
 "metadata": {
  "kernelspec": {
   "display_name": "Python 3",
   "language": "python",
   "name": "python3"
  },
  "language_info": {
   "codemirror_mode": {
    "name": "ipython",
    "version": 3
   },
   "file_extension": ".py",
   "mimetype": "text/x-python",
   "name": "python",
   "nbconvert_exporter": "python",
   "pygments_lexer": "ipython3",
   "version": "3.10.7"
  }
 },
 "nbformat": 4,
 "nbformat_minor": 2
}
